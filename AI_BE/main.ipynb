{
 "cells": [
  {
   "cell_type": "code",
   "execution_count": 1,
   "metadata": {},
   "outputs": [
    {
     "name": "stdout",
     "output_type": "stream",
     "text": [
      "dress checker\n",
      "OCR loaded!\n"
     ]
    }
   ],
   "source": [
    "import os\n",
    "import traceback\n",
    "cur_path = os.getcwd()\n",
    "engine_path = os.path.join(cur_path, 'OZEngine')\n",
    "if engine_path not in sys.path:\n",
    "    sys.path.append(engine_path)\n",
    "\n",
    "import cv2\n",
    "from operator import itemgetter\n",
    "import matplotlib.pyplot as plt\n",
    "from matplotlib import font_manager,rc\n",
    "\n",
    "from OZEngine.edge_detectors import Morph, HED\n",
    "from OZEngine import OmilZomil\n",
    "# # plt.rc('font', family='D2coding')\n",
    "# font_path = \"/config/.lo\n",
    "# cal/share/fonts/D2Coding/D2CodingBold-Ver1.3.2-20180524.ttf\"\n",
    "# font_name = font_manager.FontProperties(fname=font_path).get_name()\n",
    "# rc('font',family=font_name)"
   ]
  },
  {
   "cell_type": "code",
   "execution_count": null,
   "metadata": {},
   "outputs": [],
   "source": [
    "from OZEngine.lib.utils import *\n",
    "\n",
    "org_img = cv2.imread('image/full_dress_uniform/person/17.jpg', cv2.IMREAD_COLOR)\n",
    "# org_img = cv2.imread('image/militery_uniform/1.jpg', cv2.IMREAD_COLOR)\n",
    "# org_img = cv2.imread('image/navy_service_uniform/1.jpg', cv2.IMREAD_COLOR)\n",
    "img = cv2.resize(org_img, (500, 500))\n",
    "hsv_dst, yCrCb_dst = histNorm(org_img)\n",
    "# img = yCrCb_dst\n",
    "plt_imshow([\"org\", \"hsv_dst\", \"yCrCb_dst\"], [org_img, hsv_dst, yCrCb_dst])\n",
    "\n",
    "model = OmilZomil()\n",
    "# model.detect(org_img)"
   ]
  },
  {
   "cell_type": "code",
   "execution_count": null,
   "metadata": {},
   "outputs": [],
   "source": [
    "try:\n",
    "    model.detect(yCrCb_dst)\n",
    "except Exception as e:\n",
    "    print(e)\n",
    "    print(traceback.format_exc())"
   ]
  }
 ],
 "metadata": {
  "kernelspec": {
   "display_name": "Python 3.8.10 64-bit",
   "language": "python",
   "name": "python3"
  },
  "language_info": {
   "codemirror_mode": {
    "name": "ipython",
    "version": 3
   },
   "file_extension": ".py",
   "mimetype": "text/x-python",
   "name": "python",
   "nbconvert_exporter": "python",
   "pygments_lexer": "ipython3",
   "version": "3.8.5"
  },
  "orig_nbformat": 4,
  "vscode": {
   "interpreter": {
    "hash": "916dbcbb3f70747c44a77c7bcd40155683ae19c65e1c03b4aa3499c5328201f1"
   }
  }
 },
 "nbformat": 4,
 "nbformat_minor": 2
}
